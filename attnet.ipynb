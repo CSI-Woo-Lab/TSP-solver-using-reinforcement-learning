{
 "cells": [
  {
   "cell_type": "code",
   "execution_count": 1,
   "metadata": {},
   "outputs": [],
   "source": [
    "import torch\n",
    "from torch import nn\n",
    "import numpy as np \n",
    "from math import sqrt"
   ]
  },
  {
   "cell_type": "code",
   "execution_count": 2,
   "metadata": {},
   "outputs": [],
   "source": [
    "x = torch.FloatTensor([[[-1 for x in range(32)],[-1 for x in range(32)]],\n",
    " [[1 for x in range(32)], [1 for x in range(32)]],\n",
    " [[2 for x in range(32)], [-2 for x in range(32)]]])\n",
    "x = x.permute(1, 0, 2)\n",
    "x = x.repeat(10, 3, 1)"
   ]
  },
  {
   "cell_type": "code",
   "execution_count": 3,
   "metadata": {},
   "outputs": [],
   "source": [
    "x = torch.FloatTensor(13, 17, 2).uniform_(0, 1)"
   ]
  },
  {
   "cell_type": "code",
   "execution_count": 4,
   "metadata": {},
   "outputs": [],
   "source": [
    "from rl_with_rnn import *\n",
    "input_size =2\n",
    "embedding_dim = 24"
   ]
  },
  {
   "cell_type": "code",
   "execution_count": 5,
   "metadata": {},
   "outputs": [],
   "source": [
    "ge = GraphEmbedding(input_size, embedding_dim)"
   ]
  },
  {
   "cell_type": "code",
   "execution_count": 6,
   "metadata": {},
   "outputs": [],
   "source": [
    "encoder_input = ge(x)"
   ]
  },
  {
   "cell_type": "markdown",
   "metadata": {},
   "source": [
    "## Encoder"
   ]
  },
  {
   "cell_type": "code",
   "execution_count": 7,
   "metadata": {},
   "outputs": [],
   "source": [
    "class skip_connection(nn.Module):\n",
    "    def __init__(self, module):\n",
    "        super(skip_connection, self).__init__()\n",
    "        self.module = module\n",
    "    def forward(x):\n",
    "        return x + self.module(x)"
   ]
  },
  {
   "cell_type": "markdown",
   "metadata": {},
   "source": [
    "Attention module(Without Batch normalization)"
   ]
  },
  {
   "cell_type": "code",
   "execution_count": 8,
   "metadata": {},
   "outputs": [],
   "source": [
    "class att_layer(nn.Module):\n",
    "    def __init__(self, embed_dim, n_heads, feed_forward_hidden=512, bn=False):\n",
    "        super(att_layer, self).__init__()\n",
    "        self.mha = torch.nn.MultiheadAttention(embed_dim, n_heads)\n",
    "        self.embed = nn.Sequential(nn.Linear(embed_dim, feed_forward_hidden), nn.ReLU(), nn.Linear(feed_forward_hidden, embed_dim))\n",
    "    def forward(self, x):\n",
    "        #I don't know why, but multiheadattention in pytorch starts with (target_seq_length, batch_size, embedding_size).\n",
    "        # thus we permute order first. https://pytorch.org/docs/stable/nn.html#multiheadattention\n",
    "        x = x.permute(1, 0, 2)\n",
    "        _1 = x + self.mha(x, x, x)[0]\n",
    "        _1 = _1.permute(1, 0, 2)\n",
    "        _2 = _1 + self.embed(_1)\n",
    "        return _1\n",
    "class attention_module(nn.Sequential):\n",
    "    def __init__(self, embed_dim, n_heads, feed_forward_hidden=512, bn=False):\n",
    "        super(attention_module, self).__init__(\n",
    "            att_layer(embed_dim, n_heads, feed_forward_hidden, bn),\n",
    "            att_layer(embed_dim, n_heads, feed_forward_hidden, bn),\n",
    "        )"
   ]
  },
  {
   "cell_type": "code",
   "execution_count": 9,
   "metadata": {},
   "outputs": [],
   "source": [
    "hidden_dim = 8\n",
    "mha = attention_module(embedding_dim, hidden_dim)"
   ]
  },
  {
   "cell_type": "code",
   "execution_count": 10,
   "metadata": {},
   "outputs": [
    {
     "data": {
      "text/plain": [
       "torch.Size([13, 17, 24])"
      ]
     },
     "execution_count": 10,
     "metadata": {},
     "output_type": "execute_result"
    }
   ],
   "source": [
    "h = mha(encoder_input)\n",
    "h.shape"
   ]
  },
  {
   "cell_type": "code",
   "execution_count": 11,
   "metadata": {},
   "outputs": [],
   "source": [
    "h_bar = h.mean(1)\n",
    "h_context_embed = nn.Linear(embedding_dim, embedding_dim)"
   ]
  },
  {
   "cell_type": "markdown",
   "metadata": {},
   "source": [
    "### Calculating query"
   ]
  },
  {
   "cell_type": "code",
   "execution_count": 12,
   "metadata": {},
   "outputs": [],
   "source": [
    "W_placeholder = nn.Parameter(torch.Tensor(2 * embedding_dim))\n",
    "W_placeholder.data.uniform_(-1, 1)  # Placeholder should be in range of \n",
    "inp = W_placeholder\n",
    "v_weight_embed = nn.Linear(embedding_dim * 2, embedding_dim)"
   ]
  },
  {
   "cell_type": "code",
   "execution_count": 13,
   "metadata": {},
   "outputs": [],
   "source": [
    "query = init_embed = h_context_embed(h_bar) + v_weight_embed(inp)"
   ]
  },
  {
   "cell_type": "code",
   "execution_count": 14,
   "metadata": {},
   "outputs": [
    {
     "data": {
      "text/plain": [
       "torch.Size([13, 24])"
      ]
     },
     "execution_count": 14,
     "metadata": {},
     "output_type": "execute_result"
    }
   ],
   "source": [
    "query.shape"
   ]
  },
  {
   "cell_type": "markdown",
   "metadata": {},
   "source": [
    "### Multihead glimpse"
   ]
  },
  {
   "cell_type": "code",
   "execution_count": 20,
   "metadata": {},
   "outputs": [],
   "source": [
    "glimpse_key_embedding = nn.Linear(embedding_dim, hidden_dim, bias=False)\n",
    "glimpse_val_embedding = nn.Linear(embedding_dim, hidden_dim, bias=False)\n",
    "logit_embedding = nn.Linear(embedding_dim, hidden_dim, bias=False)"
   ]
  },
  {
   "cell_type": "code",
   "execution_count": 27,
   "metadata": {},
   "outputs": [],
   "source": [
    "key = glimpse_key_embedding(h)\n",
    "val = glimpse_val_embedding(h)\n",
    "#g_logits = logit_embedding(x)"
   ]
  },
  {
   "cell_type": "code",
   "execution_count": 26,
   "metadata": {},
   "outputs": [
    {
     "data": {
      "text/plain": [
       "torch.Size([13, 8])"
      ]
     },
     "execution_count": 26,
     "metadata": {},
     "output_type": "execute_result"
    }
   ],
   "source": [
    "g_key.shape"
   ]
  },
  {
   "cell_type": "code",
   "execution_count": null,
   "metadata": {},
   "outputs": [],
   "source": [
    "g_key.shape, g_val.shape, g_logits.shape"
   ]
  },
  {
   "cell_type": "code",
   "execution_count": null,
   "metadata": {},
   "outputs": [],
   "source": [
    "n_heads = 4\n",
    "batch_size = g_key.size(0)\n",
    "g_q = query.view(batch_size, n_heads, -1).permute(1, 0, 2) # (n_head, batch_size, embed_size)"
   ]
  },
  {
   "cell_type": "code",
   "execution_count": null,
   "metadata": {},
   "outputs": [],
   "source": [
    "g_q.shape #(n_head, batch_size, embed_size)"
   ]
  },
  {
   "cell_type": "code",
   "execution_count": null,
   "metadata": {},
   "outputs": [],
   "source": [
    "def get_logits(query, g_key, g_val, g_logits, n_head=4):\n",
    "    batch_size = g_key.size(0)\n",
    "    embed_size = g_key.size(-1)\n",
    "    d_k = embed_size // n_head\n",
    "    g_key = g_key.reshape(g_key.shape[0], g_key.shape[1], n_head, d_k) # (batch_size, seq_len, n_head, embed_size)\n",
    "    g_key = g_key.permute(2, 0, 1, 3) # (n_head, batch_size, seq_len, embed_size)\n",
    "    g_val = g_val.reshape(g_val.shape[0], g_val.shape[1], n_head, d_k)\n",
    "    g_val = g_val.permute(2, 0, 1, 3)\n",
    "    #Must be masked, but not yet implemented\n",
    "    ret = torch.matmul(g_q.unsqueeze(2), g_key.transpose(-2, -1)) / sqrt(g_key.size(-1)) # Ret value should be masked\n",
    "    ret_softmax = torch.softmax(ret, -1)\n",
    "    heads = torch.matmul(ret_softmax, g_val)\n",
    "    \n",
    "    ret = heads.permute(1, 2, 0, 3).reshape(batch_size, 1, -1)\n",
    "    ret.shape, g_logits.shape #batch_size, seq_len, \n",
    "    \n",
    "    logits = torch.matmul(ret, g_logits.transpose(-1, -2))\n",
    "    logits = torch.tanh(logits) * 10\n",
    "    logits = logits.squeeze(1)\n",
    "    return logits"
   ]
  },
  {
   "cell_type": "code",
   "execution_count": null,
   "metadata": {},
   "outputs": [],
   "source": [
    "logits = get_logits(query, g_key, g_val, g_logits)\n",
    "print(logits.shape)"
   ]
  },
  {
   "cell_type": "code",
   "execution_count": null,
   "metadata": {},
   "outputs": [],
   "source": [
    "r = torch.softmax(logits, -1)"
   ]
  },
  {
   "cell_type": "code",
   "execution_count": null,
   "metadata": {},
   "outputs": [],
   "source": [
    "r.shape"
   ]
  },
  {
   "cell_type": "code",
   "execution_count": null,
   "metadata": {},
   "outputs": [],
   "source": [
    "n_head = 4\n",
    "embed_size = 32\n",
    "g_key = g_key.reshape(g_key.shape[0], g_key.shape[1], 4, 8) # (batch_size, seq_len, n_head, embed_size)\n",
    "g_key = g_key.permute(2, 0, 1, 3) # (n_head, batch_size, seq_len, embed_size)\n",
    "g_val = g_val.reshape(g_val.shape[0], g_val.shape[1], 4, 8)\n",
    "g_val = g_val.permute(2, 0, 1, 3)"
   ]
  },
  {
   "cell_type": "code",
   "execution_count": null,
   "metadata": {},
   "outputs": [],
   "source": [
    "from math import sqrt\n",
    "ret = torch.matmul(g_q.unsqueeze(2), g_key.transpose(-2, -1)) / sqrt(g_key.size(-1)) # Ret value should be masked"
   ]
  },
  {
   "cell_type": "code",
   "execution_count": null,
   "metadata": {},
   "outputs": [],
   "source": [
    "ret_softmax = torch.softmax(ret, -1)\n",
    "ret_softmax.shape # #(num_head, batch_size, 1, seq_len)"
   ]
  },
  {
   "cell_type": "code",
   "execution_count": null,
   "metadata": {},
   "outputs": [],
   "source": [
    "g_val.shape"
   ]
  },
  {
   "cell_type": "code",
   "execution_count": null,
   "metadata": {},
   "outputs": [],
   "source": [
    "heads = torch.matmul(ret_softmax, g_val)"
   ]
  },
  {
   "cell_type": "code",
   "execution_count": null,
   "metadata": {},
   "outputs": [],
   "source": [
    "batch_size = 2\n",
    "print(heads.shape) # (num_head, batch_size, 1, hidden_size)\n",
    "ret = heads.permute(1, 2, 0, 3).reshape(batch_size, 1, -1)"
   ]
  },
  {
   "cell_type": "code",
   "execution_count": null,
   "metadata": {},
   "outputs": [],
   "source": [
    "ret.shape, g_logits.shape #batch_size, seq_len, "
   ]
  },
  {
   "cell_type": "code",
   "execution_count": null,
   "metadata": {},
   "outputs": [],
   "source": [
    "logits = torch.matmul(ret, g_logits.transpose(-1, -2))\n",
    "logits.shape # (batch_size, )"
   ]
  },
  {
   "cell_type": "code",
   "execution_count": null,
   "metadata": {},
   "outputs": [],
   "source": [
    "logits = torch.tanh(logits) * 10"
   ]
  },
  {
   "cell_type": "code",
   "execution_count": null,
   "metadata": {
    "scrolled": true
   },
   "outputs": [],
   "source": [
    "glimpse.shape"
   ]
  },
  {
   "cell_type": "code",
   "execution_count": null,
   "metadata": {},
   "outputs": [],
   "source": []
  }
 ],
 "metadata": {
  "kernelspec": {
   "display_name": "Python 3",
   "language": "python",
   "name": "python3"
  },
  "language_info": {
   "codemirror_mode": {
    "name": "ipython",
    "version": 3
   },
   "file_extension": ".py",
   "mimetype": "text/x-python",
   "name": "python",
   "nbconvert_exporter": "python",
   "pygments_lexer": "ipython3",
   "version": "3.6.8"
  }
 },
 "nbformat": 4,
 "nbformat_minor": 2
}
