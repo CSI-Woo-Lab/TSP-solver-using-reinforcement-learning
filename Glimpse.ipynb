{
 "cells": [
  {
   "cell_type": "code",
   "execution_count": 1,
   "metadata": {},
   "outputs": [],
   "source": [
    "import torch\n",
    "from torch import nn\n",
    "import numpy as np \n",
    "from math import sqrt"
   ]
  },
  {
   "cell_type": "code",
   "execution_count": 367,
   "metadata": {},
   "outputs": [],
   "source": [
    "input_size = 16\n",
    "batch_size = 13\n",
    "target_size = 17\n",
    "hidden_size = 8\n",
    "n_head = 2\n",
    "single_dim = hidden_size // n_head"
   ]
  },
  {
   "cell_type": "code",
   "execution_count": 420,
   "metadata": {},
   "outputs": [],
   "source": [
    "input_size = 16\n",
    "batch_size = 3\n",
    "target_size = 16\n",
    "hidden_size = 16\n",
    "n_head = 2\n",
    "single_dim = hidden_size // n_head"
   ]
  },
  {
   "cell_type": "code",
   "execution_count": 424,
   "metadata": {},
   "outputs": [],
   "source": [
    "query = torch.FloatTensor(batch_size, input_size).uniform_(0, 1)\n",
    "target = torch.FloatTensor(batch_size, target_size, input_size).uniform_(0, 1)\n",
    "mask = torch.BoolTensor(batch_size, target_size).random_(0, 1)"
   ]
  },
  {
   "cell_type": "code",
   "execution_count": 454,
   "metadata": {},
   "outputs": [],
   "source": [
    "W_q = nn.Linear(input_size, hidden_size, bias=False)\n",
    "W_k = nn.Linear(input_size, hidden_size, bias=False)\n",
    "W_v = nn.Linear(input_size, hidden_size, bias=False)\n",
    "W_out = nn.Linear(hidden_size, input_size, bias=False)"
   ]
  },
  {
   "cell_type": "code",
   "execution_count": 455,
   "metadata": {},
   "outputs": [],
   "source": [
    "q_c = W_q(query).reshape(batch_size, n_head, single_dim)\n",
    "k = W_k(target).reshape(batch_size, target_size, n_head, single_dim).permute(0, 2, 1, 3)\n",
    "v = W_v(target).reshape(batch_size, target_size, n_head, single_dim).permute(0, 2, 1, 3)\n",
    "#both to be batch_size x n_head x target_size x single_dim"
   ]
  },
  {
   "cell_type": "code",
   "execution_count": 456,
   "metadata": {},
   "outputs": [
    {
     "data": {
      "text/plain": [
       "(torch.Size([3, 2, 8]), torch.Size([3, 2, 16, 8]), torch.Size([3, 2, 16, 8]))"
      ]
     },
     "execution_count": 456,
     "metadata": {},
     "output_type": "execute_result"
    }
   ],
   "source": [
    "q_c.shape, k.shape, v.shape"
   ]
  },
  {
   "cell_type": "code",
   "execution_count": 457,
   "metadata": {},
   "outputs": [],
   "source": [
    "qk = torch.einsum(\"ijl,ijkl->ijk\", [q_c,k]) / sqrt(single_dim)\n",
    "# batch_size x n_head x target_size\n",
    "softmaxed = qk.softmax(-1)"
   ]
  },
  {
   "cell_type": "code",
   "execution_count": 458,
   "metadata": {},
   "outputs": [
    {
     "data": {
      "text/plain": [
       "torch.Size([3, 2, 16])"
      ]
     },
     "execution_count": 458,
     "metadata": {},
     "output_type": "execute_result"
    }
   ],
   "source": [
    "qk.shape"
   ]
  },
  {
   "cell_type": "code",
   "execution_count": 459,
   "metadata": {},
   "outputs": [],
   "source": [
    "_mask = mask.unsqueeze(1).repeat(1,2,1)"
   ]
  },
  {
   "cell_type": "code",
   "execution_count": 460,
   "metadata": {},
   "outputs": [],
   "source": [
    "qk[_mask] = -100000.0"
   ]
  },
  {
   "cell_type": "code",
   "execution_count": 461,
   "metadata": {},
   "outputs": [
    {
     "data": {
      "text/plain": [
       "tensor([[ 0.0268, -0.0399,  0.0150,  0.0046,  0.0929,  0.0100,  0.0119, -0.0471,\n",
       "          0.0187, -0.0111, -0.0330, -0.0608, -0.0294,  0.0429,  0.1020, -0.0361],\n",
       "        [ 0.0341,  0.0854,  0.0263,  0.0335,  0.0392,  0.0930,  0.0598,  0.0103,\n",
       "          0.0276,  0.0595, -0.0039,  0.0136,  0.0196,  0.0487,  0.0477,  0.0794]],\n",
       "       grad_fn=<SelectBackward>)"
      ]
     },
     "execution_count": 461,
     "metadata": {},
     "output_type": "execute_result"
    }
   ],
   "source": [
    "qk[0]"
   ]
  },
  {
   "cell_type": "code",
   "execution_count": 462,
   "metadata": {},
   "outputs": [],
   "source": [
    "softmaxed = qk.softmax(-1)"
   ]
  },
  {
   "cell_type": "code",
   "execution_count": 533,
   "metadata": {},
   "outputs": [
    {
     "data": {
      "text/plain": [
       "torch.Size([3, 2, 16])"
      ]
     },
     "execution_count": 533,
     "metadata": {},
     "output_type": "execute_result"
    }
   ],
   "source": [
    "softmaxed.shape"
   ]
  },
  {
   "cell_type": "code",
   "execution_count": 517,
   "metadata": {
    "scrolled": true
   },
   "outputs": [
    {
     "name": "stdout",
     "output_type": "stream",
     "text": [
      "torch.Size([3, 2, 16]) torch.Size([3, 2, 16, 8])\n"
     ]
    }
   ],
   "source": [
    "print(softmaxed.shape, v.shape)\n",
    "nh = torch.einsum(\"ijk,ijkl->ijl\", softmaxed, v)"
   ]
  },
  {
   "cell_type": "code",
   "execution_count": 518,
   "metadata": {},
   "outputs": [
    {
     "data": {
      "text/plain": [
       "torch.Size([3, 2, 8])"
      ]
     },
     "execution_count": 518,
     "metadata": {},
     "output_type": "execute_result"
    }
   ],
   "source": [
    "nh.shape"
   ]
  },
  {
   "cell_type": "code",
   "execution_count": 519,
   "metadata": {},
   "outputs": [],
   "source": [
    "ret = nh.reshape(batch_size, -1)"
   ]
  },
  {
   "cell_type": "code",
   "execution_count": 520,
   "metadata": {},
   "outputs": [
    {
     "data": {
      "text/plain": [
       "torch.Size([3, 16])"
      ]
     },
     "execution_count": 520,
     "metadata": {},
     "output_type": "execute_result"
    }
   ],
   "source": [
    "ret.shape"
   ]
  },
  {
   "cell_type": "code",
   "execution_count": 521,
   "metadata": {},
   "outputs": [],
   "source": [
    "#softmaxed, \n",
    "ret = W_out(ret)"
   ]
  },
  {
   "cell_type": "code",
   "execution_count": 522,
   "metadata": {},
   "outputs": [],
   "source": [
    "class MultiHeadAttention(nn.Module):\n",
    "    def __init__(self, heads, d_model):\n",
    "        super().__init__()\n",
    "        \n",
    "        self.d_model = d_model\n",
    "        self.d_k = d_model // heads\n",
    "        self.h = heads\n",
    "        \n",
    "        self.q_linear = nn.Linear(d_model, d_model)\n",
    "        self.v_linear = nn.Linear(d_model, d_model)\n",
    "        self.k_linear = nn.Linear(d_model, d_model)\n",
    "        self.out = nn.Linear(d_model, d_model)\n",
    "    \n",
    "    def forward(self, q, k, v, mask=None):\n",
    "        \n",
    "        bs = q.size(0)\n",
    "        \n",
    "        # perform linear operation and split into h heads\n",
    "        \n",
    "        k = self.k_linear(k).view(bs, -1, self.h, self.d_k)\n",
    "        q = self.q_linear(q).view(bs, -1, self.h, self.d_k)\n",
    "        v = self.v_linear(v).view(bs, -1, self.h, self.d_k)\n",
    "        \n",
    "        # transpose to get dimensions bs * h * sl * d_model\n",
    "       \n",
    "        k = k.transpose(1,2)\n",
    "        q = q.transpose(1,2)\n",
    "        v = v.transpose(1,2)\n",
    "        # calculate attention using function we will define next\n",
    "        softmax, scores = attention(q, k, v, self.d_k, mask)\n",
    "        \n",
    "        # concatenate heads and put through final linear layer\n",
    "        concat = scores.transpose(1,2).contiguous().view(bs, -1, self.d_model)\n",
    "        \n",
    "        output = softmax, self.out(concat)\n",
    "    \n",
    "        return output\n",
    "def attention(q, k, v, d_k, mask=None):\n",
    "    \n",
    "    scores = torch.matmul(q, k.transpose(-2, -1)) /  sqrt(d_k)\n",
    "    scores = F.softmax(scores, dim=-1)\n",
    "\n",
    "\n",
    "    output = torch.matmul(scores, v)\n",
    "    return scores, output\n"
   ]
  },
  {
   "cell_type": "code",
   "execution_count": 523,
   "metadata": {},
   "outputs": [
    {
     "data": {
      "text/plain": [
       "torch.Size([3, 16, 16])"
      ]
     },
     "execution_count": 523,
     "metadata": {},
     "output_type": "execute_result"
    }
   ],
   "source": [
    "target.shape"
   ]
  },
  {
   "cell_type": "code",
   "execution_count": 524,
   "metadata": {
    "scrolled": true
   },
   "outputs": [
    {
     "data": {
      "text/plain": [
       "torch.Size([3, 16])"
      ]
     },
     "execution_count": 524,
     "metadata": {},
     "output_type": "execute_result"
    }
   ],
   "source": [
    "query.shape"
   ]
  },
  {
   "cell_type": "code",
   "execution_count": 525,
   "metadata": {},
   "outputs": [],
   "source": [
    "mh = MultiHeadAttention(2, 16)#heads, d_model"
   ]
  },
  {
   "cell_type": "code",
   "execution_count": 526,
   "metadata": {},
   "outputs": [],
   "source": [
    "mh.q_linear = W_q\n",
    "mh.v_linear = W_v\n",
    "mh.k_linear = W_k\n",
    "mh.out = W_out"
   ]
  },
  {
   "cell_type": "code",
   "execution_count": 527,
   "metadata": {},
   "outputs": [],
   "source": [
    "sft, rettt = mh(query.unsqueeze(1), target, target)"
   ]
  },
  {
   "cell_type": "code",
   "execution_count": 528,
   "metadata": {
    "scrolled": true
   },
   "outputs": [
    {
     "data": {
      "text/plain": [
       "tensor([[[0.0639, 0.0597, 0.0631, 0.0625, 0.0682, 0.0628, 0.0629, 0.0593,\n",
       "          0.0633, 0.0615, 0.0602, 0.0585, 0.0604, 0.0649, 0.0688, 0.0600],\n",
       "         [0.0620, 0.0652, 0.0615, 0.0619, 0.0623, 0.0657, 0.0636, 0.0605,\n",
       "          0.0616, 0.0636, 0.0597, 0.0607, 0.0611, 0.0629, 0.0628, 0.0648]],\n",
       "\n",
       "        [[0.0589, 0.0597, 0.0622, 0.0599, 0.0631, 0.0643, 0.0632, 0.0668,\n",
       "          0.0632, 0.0658, 0.0581, 0.0626, 0.0617, 0.0631, 0.0664, 0.0612],\n",
       "         [0.0659, 0.0713, 0.0625, 0.0618, 0.0619, 0.0642, 0.0637, 0.0650,\n",
       "          0.0588, 0.0643, 0.0589, 0.0614, 0.0655, 0.0571, 0.0626, 0.0550]],\n",
       "\n",
       "        [[0.0648, 0.0642, 0.0635, 0.0646, 0.0614, 0.0630, 0.0608, 0.0611,\n",
       "          0.0632, 0.0610, 0.0651, 0.0625, 0.0593, 0.0646, 0.0603, 0.0608],\n",
       "         [0.0624, 0.0608, 0.0649, 0.0616, 0.0611, 0.0608, 0.0589, 0.0611,\n",
       "          0.0618, 0.0640, 0.0683, 0.0611, 0.0610, 0.0654, 0.0606, 0.0662]]],\n",
       "       grad_fn=<SqueezeBackward1>)"
      ]
     },
     "execution_count": 528,
     "metadata": {},
     "output_type": "execute_result"
    }
   ],
   "source": [
    "sft.squeeze(2)"
   ]
  },
  {
   "cell_type": "code",
   "execution_count": 529,
   "metadata": {},
   "outputs": [
    {
     "data": {
      "text/plain": [
       "tensor([[[0.0639, 0.0597, 0.0631, 0.0625, 0.0682, 0.0628, 0.0629, 0.0593,\n",
       "          0.0633, 0.0615, 0.0602, 0.0585, 0.0604, 0.0649, 0.0688, 0.0600],\n",
       "         [0.0620, 0.0652, 0.0615, 0.0619, 0.0623, 0.0657, 0.0636, 0.0605,\n",
       "          0.0616, 0.0636, 0.0597, 0.0607, 0.0611, 0.0629, 0.0628, 0.0648]],\n",
       "\n",
       "        [[0.0589, 0.0597, 0.0622, 0.0599, 0.0631, 0.0643, 0.0632, 0.0668,\n",
       "          0.0632, 0.0658, 0.0581, 0.0626, 0.0617, 0.0631, 0.0664, 0.0612],\n",
       "         [0.0659, 0.0713, 0.0625, 0.0618, 0.0619, 0.0642, 0.0637, 0.0650,\n",
       "          0.0588, 0.0643, 0.0589, 0.0614, 0.0655, 0.0571, 0.0626, 0.0550]],\n",
       "\n",
       "        [[0.0648, 0.0642, 0.0635, 0.0646, 0.0614, 0.0630, 0.0608, 0.0611,\n",
       "          0.0632, 0.0610, 0.0651, 0.0625, 0.0593, 0.0646, 0.0603, 0.0608],\n",
       "         [0.0624, 0.0608, 0.0649, 0.0616, 0.0611, 0.0608, 0.0589, 0.0611,\n",
       "          0.0618, 0.0640, 0.0683, 0.0611, 0.0610, 0.0654, 0.0606, 0.0662]]],\n",
       "       grad_fn=<SoftmaxBackward>)"
      ]
     },
     "execution_count": 529,
     "metadata": {},
     "output_type": "execute_result"
    }
   ],
   "source": [
    "softmaxed"
   ]
  },
  {
   "cell_type": "code",
   "execution_count": 530,
   "metadata": {},
   "outputs": [
    {
     "data": {
      "text/plain": [
       "torch.Size([3, 2, 1, 16])"
      ]
     },
     "execution_count": 530,
     "metadata": {},
     "output_type": "execute_result"
    }
   ],
   "source": [
    "sft.shape"
   ]
  },
  {
   "cell_type": "code",
   "execution_count": 531,
   "metadata": {},
   "outputs": [
    {
     "data": {
      "text/plain": [
       "(torch.Size([3, 1, 16]), torch.Size([3, 16]))"
      ]
     },
     "execution_count": 531,
     "metadata": {},
     "output_type": "execute_result"
    }
   ],
   "source": [
    "rettt.shape, ret.shape"
   ]
  },
  {
   "cell_type": "code",
   "execution_count": 532,
   "metadata": {},
   "outputs": [
    {
     "data": {
      "text/plain": [
       "tensor(0., grad_fn=<SumBackward0>)"
      ]
     },
     "execution_count": 532,
     "metadata": {},
     "output_type": "execute_result"
    }
   ],
   "source": [
    "torch.sum(torch.abs(rettt.squeeze(1) - ret))"
   ]
  },
  {
   "cell_type": "code",
   "execution_count": null,
   "metadata": {},
   "outputs": [],
   "source": []
  }
 ],
 "metadata": {
  "kernelspec": {
   "display_name": "Python 3",
   "language": "python",
   "name": "python3"
  },
  "language_info": {
   "codemirror_mode": {
    "name": "ipython",
    "version": 3
   },
   "file_extension": ".py",
   "mimetype": "text/x-python",
   "name": "python",
   "nbconvert_exporter": "python",
   "pygments_lexer": "ipython3",
   "version": "3.6.8"
  }
 },
 "nbformat": 4,
 "nbformat_minor": 2
}
