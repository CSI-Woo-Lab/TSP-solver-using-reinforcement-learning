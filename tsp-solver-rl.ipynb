{
 "cells": [
  {
   "cell_type": "code",
   "execution_count": 15,
   "metadata": {},
   "outputs": [],
   "source": [
    "import math\n",
    "import numpy as np\n",
    "\n",
    "import torch\n",
    "import torch.nn as nn\n",
    "import torch.optim as optim\n",
    "import torch.autograd as autograd\n",
    "import torch.nn.functional as F\n",
    "from torch.autograd import Variable\n",
    "from torch.utils.data import Dataset, DataLoader\n",
    "from torch.distributions import Categorical\n",
    "USE_CUDA = False\n"
   ]
  },
  {
   "cell_type": "code",
   "execution_count": 16,
   "metadata": {},
   "outputs": [],
   "source": [
    "from IPython.display import clear_output\n",
    "from tqdm import tqdm\n",
    "import matplotlib.pyplot as plt\n",
    "%matplotlib inline"
   ]
  },
  {
   "cell_type": "code",
   "execution_count": 17,
   "metadata": {},
   "outputs": [],
   "source": [
    "class TSPDataset(Dataset):\n",
    "    \n",
    "    def __init__(self, num_nodes, num_samples, random_seed=111):\n",
    "        super(TSPDataset, self).__init__()\n",
    "        torch.manual_seed(random_seed)\n",
    "\n",
    "        self.data_set = []\n",
    "        for l in tqdm(range(num_samples)):\n",
    "            x = torch.FloatTensor(num_nodes, 2).uniform_(0, 1)\n",
    "            self.data_set.append(x)\n",
    "\n",
    "        self.size = len(self.data_set)\n",
    "\n",
    "    def __len__(self):\n",
    "        return self.size\n",
    "\n",
    "    def __getitem__(self, idx):\n",
    "        return idx, self.data_set[idx]"
   ]
  },
  {
   "cell_type": "code",
   "execution_count": 18,
   "metadata": {},
   "outputs": [
    {
     "name": "stderr",
     "output_type": "stream",
     "text": [
      "100%|██████████| 1000/1000 [00:00<00:00, 140512.70it/s]\n"
     ]
    },
    {
     "name": "stdout",
     "output_type": "stream",
     "text": [
      "tensor([895, 431, 584, 234, 483,  40, 235, 166,  76, 268, 774, 623, 164, 412,\n",
      "        267, 967, 674, 116, 700, 627, 564, 696,  26, 755, 713, 899, 415, 682,\n",
      "         81, 428, 953, 839])\n"
     ]
    }
   ],
   "source": [
    "train_loader = DataLoader(TSPDataset(20, 1000), batch_size=32, shuffle=True, num_workers=1)\n",
    "for  (a, b) in train_loader:\n",
    "    print(a)\n",
    "    break"
   ]
  },
  {
   "cell_type": "code",
   "execution_count": 19,
   "metadata": {},
   "outputs": [
    {
     "name": "stderr",
     "output_type": "stream",
     "text": [
      "100%|██████████| 1000/1000 [00:00<00:00, 102600.39it/s]\n"
     ]
    },
    {
     "data": {
      "text/plain": [
       "1000"
      ]
     },
     "execution_count": 19,
     "metadata": {},
     "output_type": "execute_result"
    }
   ],
   "source": [
    "len(TSPDataset(20, 1000))"
   ]
  },
  {
   "cell_type": "code",
   "execution_count": 20,
   "metadata": {},
   "outputs": [],
   "source": [
    "train_size = 100000\n",
    "val_size = 10000"
   ]
  },
  {
   "cell_type": "code",
   "execution_count": 21,
   "metadata": {},
   "outputs": [
    {
     "name": "stderr",
     "output_type": "stream",
     "text": [
      "100%|██████████| 100000/100000 [00:00<00:00, 123072.55it/s]\n",
      "100%|██████████| 10000/10000 [00:00<00:00, 117203.53it/s]\n"
     ]
    }
   ],
   "source": [
    "train_20_dataset = TSPDataset(20, train_size)\n",
    "val_20_dataset   = TSPDataset(20, val_size)"
   ]
  },
  {
   "cell_type": "code",
   "execution_count": 22,
   "metadata": {},
   "outputs": [],
   "source": [
    "def reward(sample_solution, USE_CUDA=False):\n",
    "    \"\"\"\n",
    "    Args:\n",
    "        sample_solution seq_len of [batch_size]\n",
    "    \"\"\"\n",
    "    batch_size = sample_solution[0].size(0)\n",
    "    n = len(sample_solution)\n",
    "    tour_len = Variable(torch.zeros([batch_size]))\n",
    "    \n",
    "\n",
    "    for i in range(n - 1):\n",
    "        tour_len += torch.norm(sample_solution[i] - sample_solution[i + 1], dim=1)\n",
    "    \n",
    "    tour_len += torch.norm(sample_solution[n - 1] - sample_solution[0], dim=1)\n",
    "\n",
    "    return tour_len"
   ]
  },
  {
   "cell_type": "code",
   "execution_count": 23,
   "metadata": {},
   "outputs": [],
   "source": [
    "class Attention(nn.Module):\n",
    "    def __init__(self, hidden_size, use_tanh=False, C=10, name='Bahdanau', use_cuda=USE_CUDA):\n",
    "        super(Attention, self).__init__()\n",
    "        \n",
    "        self.use_tanh = use_tanh\n",
    "        self.C = C\n",
    "        self.name = name\n",
    "        self.W_query = nn.Linear(hidden_size, hidden_size, bias=False)\n",
    "        self.W_ref   = nn.Linear(hidden_size, hidden_size, bias=False)\n",
    "        self.V = nn.Linear(hidden_size, 1, bias=False)\n",
    "        \n",
    "    def forward(self, query, ref):\n",
    "        \"\"\"\n",
    "        Args: \n",
    "            query: [batch_size x hidden_size]\n",
    "            ref:   [batch_size x seq_len x hidden_size]\n",
    "        \"\"\"\n",
    "        \n",
    "        batch_size = ref.size(0)\n",
    "        seq_len    = ref.size(1)\n",
    "        query = self.W_query(query).unsqueeze(1).repeat(1, seq_len, 1)  # [batch_size x seq_len x hidden_size]\n",
    "        ref = self.W_ref(ref)  # [batch_size x seq_len x hidden_size] \n",
    "        logits = self.V(torch.tanh(query + ref)).squeeze(-1)\n",
    "        logits = self.C * F.tanh(logits)\n",
    "        return ref, logits"
   ]
  },
  {
   "cell_type": "code",
   "execution_count": 24,
   "metadata": {},
   "outputs": [
    {
     "name": "stderr",
     "output_type": "stream",
     "text": [
      "/home/ita/anaconda3/lib/python3.6/site-packages/torch/nn/functional.py:1339: UserWarning: nn.functional.tanh is deprecated. Use torch.tanh instead.\n",
      "  warnings.warn(\"nn.functional.tanh is deprecated. Use torch.tanh instead.\")\n"
     ]
    },
    {
     "data": {
      "text/plain": [
       "torch.Size([9, 7])"
      ]
     },
     "execution_count": 24,
     "metadata": {},
     "output_type": "execute_result"
    }
   ],
   "source": [
    "r = torch.ones(9, 7, 32)\n",
    "\n",
    "att = Attention(32)\n",
    "ref, logit = att(torch.ones(9, 32), r)\n",
    "\n",
    "r = torch.softmax(logit, -1)\n",
    "\n",
    "r.shape"
   ]
  },
  {
   "cell_type": "code",
   "execution_count": 25,
   "metadata": {},
   "outputs": [],
   "source": [
    "class GraphEmbedding(nn.Module):\n",
    "    def __init__(self, input_size, embedding_size, use_cuda=USE_CUDA):\n",
    "        super(GraphEmbedding, self).__init__()\n",
    "        self.embedding_size = embedding_size\n",
    "        self.use_cuda = use_cuda\n",
    "        \n",
    "        self.embedding = nn.Linear(input_size, embedding_size)\n",
    "    def forward(self, inputs):\n",
    "        return self.embedding(inputs)"
   ]
  },
  {
   "cell_type": "code",
   "execution_count": 26,
   "metadata": {},
   "outputs": [
    {
     "name": "stdout",
     "output_type": "stream",
     "text": [
      "tensor([[[ 0.4630, -0.2604,  0.3016,  0.1123,  0.0773, -1.0698, -0.2132,\n",
      "          -0.4268,  0.3135, -0.7142,  0.1052,  0.0151,  0.6963, -0.4468,\n",
      "          -0.2605,  0.0476],\n",
      "         [ 0.4630, -0.2604,  0.3016,  0.1123,  0.0773, -1.0698, -0.2132,\n",
      "          -0.4268,  0.3135, -0.7142,  0.1052,  0.0151,  0.6963, -0.4468,\n",
      "          -0.2605,  0.0476],\n",
      "         [ 0.4630, -0.2604,  0.3016,  0.1123,  0.0773, -1.0698, -0.2132,\n",
      "          -0.4268,  0.3135, -0.7142,  0.1052,  0.0151,  0.6963, -0.4468,\n",
      "          -0.2605,  0.0476]],\n",
      "\n",
      "        [[ 0.4630, -0.2604,  0.3016,  0.1123,  0.0773, -1.0698, -0.2132,\n",
      "          -0.4268,  0.3135, -0.7142,  0.1052,  0.0151,  0.6963, -0.4468,\n",
      "          -0.2605,  0.0476],\n",
      "         [ 0.4630, -0.2604,  0.3016,  0.1123,  0.0773, -1.0698, -0.2132,\n",
      "          -0.4268,  0.3135, -0.7142,  0.1052,  0.0151,  0.6963, -0.4468,\n",
      "          -0.2605,  0.0476],\n",
      "         [ 0.4630, -0.2604,  0.3016,  0.1123,  0.0773, -1.0698, -0.2132,\n",
      "          -0.4268,  0.3135, -0.7142,  0.1052,  0.0151,  0.6963, -0.4468,\n",
      "          -0.2605,  0.0476]]], grad_fn=<AddBackward0>)\n"
     ]
    }
   ],
   "source": [
    "x = GraphEmbedding(32, 16)\n",
    "q = x(torch.ones(2,3, 32))\n",
    "print(q)"
   ]
  },
  {
   "cell_type": "code",
   "execution_count": 27,
   "metadata": {},
   "outputs": [],
   "source": [
    "class PointerNet(nn.Module):\n",
    "    def __init__(self, \n",
    "            embedding_size,\n",
    "            hidden_size,\n",
    "            seq_len,\n",
    "            n_glimpses,\n",
    "            tanh_exploration,\n",
    "            use_tanh,\n",
    "            attention,\n",
    "            use_cuda=USE_CUDA):\n",
    "        super(PointerNet, self).__init__()\n",
    "        \n",
    "        self.embedding_size = embedding_size\n",
    "        self.hidden_size    = hidden_size\n",
    "        self.n_glimpses     = n_glimpses\n",
    "        self.seq_len        = seq_len\n",
    "        self.use_cuda       = use_cuda\n",
    "        \n",
    "        \n",
    "        self.embedding = GraphEmbedding(2, embedding_size, use_cuda=use_cuda)\n",
    "        self.encoder = nn.LSTM(embedding_size, hidden_size, batch_first=True)\n",
    "        self.decoder = nn.LSTM(embedding_size, hidden_size, batch_first=True)\n",
    "        self.pointer = Attention(hidden_size, use_tanh=use_tanh, C=tanh_exploration, name=attention, use_cuda=use_cuda)\n",
    "        self.glimpse = Attention(hidden_size, use_tanh=False, name=attention, use_cuda=use_cuda)\n",
    "        \n",
    "        self.decoder_start_input = nn.Parameter(torch.FloatTensor(embedding_size))\n",
    "        self.decoder_start_input.data.uniform_(-(1. / math.sqrt(embedding_size)), 1. / math.sqrt(embedding_size))\n",
    "        \n",
    "    def apply_mask_to_logits(self, logits, mask, idxs): \n",
    "        batch_size = logits.size(0)\n",
    "        clone_mask = mask.clone()\n",
    "        if idxs is not None:\n",
    "            clone_mask[[i for i in range(batch_size)], idxs.data] = 1\n",
    "            logits[clone_mask] = -np.inf\n",
    "        return logits, clone_mask\n",
    "            \n",
    "    def forward(self, inputs):\n",
    "        \"\"\"\n",
    "        Args: \n",
    "            inputs: [batch_size x seq_len x 2]\n",
    "        \"\"\"\n",
    "        batch_size = inputs.size(0)\n",
    "        seq_len    = inputs.size(1)\n",
    "        assert seq_len == self.seq_len\n",
    "        \n",
    "        embedded = self.embedding(inputs)\n",
    "        encoder_outputs, (hidden, context) = self.encoder(embedded)\n",
    "        \n",
    "        \n",
    "        prev_probs = []\n",
    "        prev_idxs = []\n",
    "        mask = torch.zeros(batch_size, seq_len, dtype=torch.bool)\n",
    "        idxs = None      \n",
    "        decoder_input = self.decoder_start_input.unsqueeze(0).repeat(batch_size, 1)\n",
    "       \n",
    "        for i in range(seq_len):\n",
    "            _, (hidden, context) = self.decoder(decoder_input.unsqueeze(1), (hidden, context))\n",
    "            \n",
    "            query = hidden.squeeze(0)\n",
    "            for i in range(self.n_glimpses):\n",
    "                ref, logits = self.glimpse(query, encoder_outputs)\n",
    "                logits, mask = self.apply_mask_to_logits(logits, mask, idxs)\n",
    "                \n",
    "                query = torch.matmul(ref.transpose(-1, -2), F.softmax(logits, dim=-1).unsqueeze(-1)).squeeze(-1)\n",
    "                \n",
    "            _, logits = self.pointer(query, encoder_outputs)\n",
    "            logits, mask = self.apply_mask_to_logits(logits, mask, idxs)\n",
    "            probs = F.softmax(logits, dim=-1)\n",
    "            cat = Categorical(probs)\n",
    "            \n",
    "            idxs = cat.sample()\n",
    "            log_probs = cat.log_prob(idxs)\n",
    "            dec_input = embedded.gather(1, idxs[:, None, None].repeat(1, 1, self.hidden_size)).squeeze(1)\n",
    "            prev_probs.append(log_probs)\n",
    "            prev_idxs.append(idxs)\n",
    "            \n",
    "        return torch.stack( prev_probs, 1), torch.stack(prev_idxs, 1)\n"
   ]
  },
  {
   "cell_type": "code",
   "execution_count": 28,
   "metadata": {},
   "outputs": [
    {
     "name": "stdout",
     "output_type": "stream",
     "text": [
      "torch.Size([17, 20, 2])\n"
     ]
    }
   ],
   "source": [
    "ret = PointerNet(32, 32, 20, 1, 10, True, 'bahanadu')\n",
    "x = torch.FloatTensor(17, 20, 2).uniform_(0, 1)\n",
    "print(x.shape)"
   ]
  },
  {
   "cell_type": "code",
   "execution_count": 29,
   "metadata": {},
   "outputs": [
    {
     "data": {
      "text/plain": [
       "(torch.Size([17, 20]), torch.Size([17, 20]))"
      ]
     },
     "execution_count": 29,
     "metadata": {},
     "output_type": "execute_result"
    }
   ],
   "source": [
    "prev_probs, prev_idxs = ret(x)\n",
    "prev_probs.shape,prev_idxs.shape"
   ]
  },
  {
   "cell_type": "code",
   "execution_count": 30,
   "metadata": {},
   "outputs": [],
   "source": [
    "class CombinatorialRL(nn.Module):\n",
    "    def __init__(self, \n",
    "            embedding_size,\n",
    "            hidden_size,\n",
    "            seq_len,\n",
    "            n_glimpses,\n",
    "            tanh_exploration,\n",
    "            use_tanh,\n",
    "            attention,\n",
    "            use_cuda=USE_CUDA):\n",
    "        super(CombinatorialRL, self).__init__()\n",
    "        self.use_cuda = use_cuda\n",
    "        \n",
    "        self.actor = PointerNet(\n",
    "                embedding_size,\n",
    "                hidden_size,\n",
    "                seq_len,\n",
    "                n_glimpses,\n",
    "                tanh_exploration,\n",
    "                use_tanh,\n",
    "                attention,\n",
    "                use_cuda)\n",
    "    def reward(self, sample_solution, USE_CUDA=False):\n",
    "        \"\"\"\n",
    "        Args:\n",
    "            sample_solution seq_len of [batch_size]\n",
    "            torch.LongTensor [batch_size x seq_len x 2]\n",
    "        \"\"\"\n",
    "        #여기 다시 한 번 확인\n",
    "        batch_size, seq_len, _ = sample_solution.size()\n",
    "        tour_len = Variable(torch.zeros([batch_size]))\n",
    "        for i in range(seq_len - 1):\n",
    "            tour_len += torch.norm(sample_solution[:, i, :] - sample_solution[:, i + 1, :], dim=-1)\n",
    "\n",
    "        tour_len += torch.norm(sample_solution[:, seq_len - 1, :] - sample_solution[:, 0, :], dim=-1)\n",
    "\n",
    "        return tour_len\n",
    "    \n",
    "    \n",
    "    def forward(self, inputs):\n",
    "        \"\"\"\n",
    "        Args:\n",
    "            inputs: [batch_size, input_size, seq_len]\n",
    "        \"\"\"\n",
    "        batch_size = inputs.size(0)\n",
    "        input_size = inputs.size(1)\n",
    "        seq_len    = inputs.size(2)\n",
    "        \n",
    "        probs, actions = self.actor(inputs)\n",
    "        inpts = inputs.gather(1, actions.unsqueeze(2).repeat(1, 1, 2))\n",
    "        R = self.reward(inputs.gather(1, actions.unsqueeze(2).repeat(1, 1, 2)), self.use_cuda)\n",
    "        \n",
    "        return R, probs, actions"
   ]
  },
  {
   "cell_type": "code",
   "execution_count": 31,
   "metadata": {},
   "outputs": [
    {
     "name": "stdout",
     "output_type": "stream",
     "text": [
      "torch.Size([17, 20, 2])\n"
     ]
    }
   ],
   "source": [
    "ret = CombinatorialRL(32, 32, 20, 2, 10, True, 'bahanadu')\n",
    "x = torch.FloatTensor(17, 20, 2).uniform_(0, 1)\n",
    "print(x.shape)"
   ]
  },
  {
   "cell_type": "code",
   "execution_count": 32,
   "metadata": {},
   "outputs": [
    {
     "name": "stdout",
     "output_type": "stream",
     "text": [
      "torch.Size([17]) torch.Size([17, 20])\n",
      "torch.Size([17, 20, 2]) torch.Size([17, 20])\n"
     ]
    }
   ],
   "source": [
    "R, action_probs, actions = ret(x)\n",
    "print(R.shape, action_probs.shape)\n",
    "print(x.shape, prev_idxs.shape)"
   ]
  },
  {
   "cell_type": "code",
   "execution_count": 33,
   "metadata": {},
   "outputs": [],
   "source": [
    "r = x.gather(1, prev_idxs.unsqueeze(2).repeat(1, 1, 2))"
   ]
  },
  {
   "cell_type": "code",
   "execution_count": 34,
   "metadata": {},
   "outputs": [
    {
     "data": {
      "text/plain": [
       "tensor(3)"
      ]
     },
     "execution_count": 34,
     "metadata": {},
     "output_type": "execute_result"
    }
   ],
   "source": [
    "prev_idxs[1][16]"
   ]
  },
  {
   "cell_type": "code",
   "execution_count": 35,
   "metadata": {},
   "outputs": [
    {
     "data": {
      "text/plain": [
       "(tensor([0.6866, 0.1706]), tensor([0.1262, 0.4393]))"
      ]
     },
     "execution_count": 35,
     "metadata": {},
     "output_type": "execute_result"
    }
   ],
   "source": [
    "x[1][14],r[1][16]"
   ]
  },
  {
   "cell_type": "code",
   "execution_count": 36,
   "metadata": {},
   "outputs": [],
   "source": [
    "embedding_size = 128\n",
    "hidden_size    = 128\n",
    "n_glimpses = 1\n",
    "tanh_exploration = 10\n",
    "use_tanh = True\n",
    "\n",
    "beta = 0.9\n",
    "max_grad_norm = 2."
   ]
  },
  {
   "cell_type": "code",
   "execution_count": 37,
   "metadata": {},
   "outputs": [],
   "source": [
    "tsp_20_model = CombinatorialRL(\n",
    "        embedding_size,\n",
    "        hidden_size,\n",
    "        20,\n",
    "        n_glimpses, \n",
    "        tanh_exploration,\n",
    "        use_tanh,\n",
    "        attention=\"Bahdanau\",\n",
    "        use_cuda=False)"
   ]
  },
  {
   "cell_type": "code",
   "execution_count": 53,
   "metadata": {},
   "outputs": [],
   "source": [
    "class TrainModel:\n",
    "    def __init__(self, model, train_dataset, val_dataset, batch_size=128, threshold=None, max_grad_norm=2.):\n",
    "        self.model = model\n",
    "        self.train_dataset = train_dataset\n",
    "        self.val_dataset   = val_dataset\n",
    "        self.batch_size = batch_size\n",
    "        self.threshold = threshold\n",
    "        self.num_tr_data = len(train_dataset)\n",
    "        self.train_loader = DataLoader(train_dataset, batch_size=batch_size, shuffle=True, num_workers=1)\n",
    "        self.val_loader   = DataLoader(val_dataset, batch_size=batch_size, shuffle=True, num_workers=1)\n",
    "\n",
    "        self.actor_optim   = optim.Adam(model.actor.parameters(), lr=1e-4)\n",
    "        self.max_grad_norm = max_grad_norm\n",
    "        \n",
    "        self.train_tour = []\n",
    "        self.val_tour   = []\n",
    "        \n",
    "        self.epochs = 0\n",
    "    \n",
    "    def train_and_validate(self, n_epochs):\n",
    "        critic_exp_mvg_avg = torch.zeros(self.num_tr_data)\n",
    "\n",
    "        for epoch in range(n_epochs):\n",
    "            for batch_id, (indices, sample_batch) in enumerate(self.train_loader):\n",
    "                self.model.train()\n",
    "                for rollout in range(5):\n",
    "                    inputs = Variable(sample_batch)\n",
    "                    inputs = inputs\n",
    "                    R, probs, actions = self.model(inputs)\n",
    "                    critic_exp_mvg_avg[indices] = (critic_exp_mvg_avg[indices] * beta) + ((1. - beta) * R)\n",
    "\n",
    "                    advantage = R - critic_exp_mvg_avg[indices]\n",
    "\n",
    "                    logprobs = torch.sum(probs, dim=-1)\n",
    "                    logprobs[logprobs < -100] = -100\n",
    "                    reinforce = advantage * logprobs\n",
    "                    actor_loss = reinforce.mean()\n",
    "\n",
    "                    self.actor_optim.zero_grad()\n",
    "                    actor_loss.backward()\n",
    "                    torch.nn.utils.clip_grad_norm(self.model.actor.parameters(), float(self.max_grad_norm), norm_type=2)\n",
    "\n",
    "                    self.actor_optim.step()\n",
    "\n",
    "                    critic_exp_mvg_avg = critic_exp_mvg_avg.detach()\n",
    "                    self.train_tour.append(R.mean().data)\n",
    "\n",
    "                if batch_id % 10 == 0:\n",
    "                    self.plot(self.epochs)\n",
    "\n",
    "                if batch_id % 100 == 0:    \n",
    "\n",
    "                    self.model.eval()\n",
    "                    for _, val_batch in self.val_loader:\n",
    "                        inputs = Variable(val_batch)\n",
    "                        inputs = inputs\n",
    "\n",
    "                        R, probs, actions = self.model(inputs)\n",
    "                        self.val_tour.append(R.mean().data)\n",
    "\n",
    "            if self.threshold and self.train_tour[-1] < self.threshold:\n",
    "                print(\"EARLY STOPPAGE!\")\n",
    "                break\n",
    "                \n",
    "            self.epochs += 1\n",
    "                \n",
    "    def plot(self, epoch):\n",
    "        clear_output(True)\n",
    "        plt.figure(figsize=(20,5))\n",
    "        plt.subplot(131)\n",
    "        plt.title('train tour length: epoch %s reward %s' % (epoch, self.train_tour[-1] if len(self.train_tour) else 'collecting'))\n",
    "        plt.plot(self.train_tour)\n",
    "        plt.grid()\n",
    "        plt.subplot(132)\n",
    "        plt.title('val tour length: epoch %s reward %s' % (epoch, self.val_tour[-1] if len(self.val_tour) else 'collecting'))\n",
    "        plt.plot(self.val_tour)\n",
    "        plt.grid()\n",
    "        plt.show()"
   ]
  },
  {
   "cell_type": "code",
   "execution_count": 54,
   "metadata": {},
   "outputs": [],
   "source": [
    "tsp_20_train = TrainModel(tsp_20_model, \n",
    "                        train_20_dataset, \n",
    "                        val_20_dataset, \n",
    "                        threshold=3.99)"
   ]
  },
  {
   "cell_type": "code",
   "execution_count": null,
   "metadata": {},
   "outputs": [
    {
     "data": {
      "image/png": "[encoded data removed]",
      "text/plain": [
       "<Figure size 1440x360 with 2 Axes>"
      ]
     },
     "metadata": {
      "needs_background": "light"
     },
     "output_type": "display_data"
    }
   ],
   "source": [
    "tsp_20_train.train_and_validate(10)"
   ]
  },
  {
   "cell_type": "code",
   "execution_count": null,
   "metadata": {},
   "outputs": [],
   "source": []
  }
 ],
 "metadata": {
  "kernelspec": {
   "display_name": "Python 3",
   "language": "python",
   "name": "python3"
  },
  "language_info": {
   "codemirror_mode": {
    "name": "ipython",
    "version": 3
   },
   "file_extension": ".py",
   "mimetype": "text/x-python",
   "name": "python",
   "nbconvert_exporter": "python",
   "pygments_lexer": "ipython3",
   "version": "3.6.6"
  }
 },
 "nbformat": 4,
 "nbformat_minor": 2
}
