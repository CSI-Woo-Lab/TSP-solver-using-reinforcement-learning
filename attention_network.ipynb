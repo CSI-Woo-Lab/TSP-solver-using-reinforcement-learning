{
 "cells": [
  {
   "cell_type": "code",
   "execution_count": 1,
   "metadata": {},
   "outputs": [],
   "source": [
    "import torch\n",
    "from torch import nn\n",
    "import numpy as np \n",
    "from math import sqrt\n",
    "from torch.distributions import Categorical\n",
    "from rl_with_attention import Glimpse\n"
   ]
  },
  {
   "cell_type": "code",
   "execution_count": 2,
   "metadata": {},
   "outputs": [],
   "source": [
    "x = torch.FloatTensor([[[-1 for x in range(32)],[-1 for x in range(32)]],\n",
    " [[1 for x in range(32)], [1 for x in range(32)]],\n",
    " [[2 for x in range(32)], [-2 for x in range(32)]]])\n",
    "x = x.permute(1, 0, 2)\n",
    "x = x.repeat(10, 3, 1)"
   ]
  },
  {
   "cell_type": "code",
   "execution_count": 3,
   "metadata": {},
   "outputs": [],
   "source": [
    "from rl_with_rnn import *\n",
    "input_size =2\n",
    "batch_size = 17\n",
    "target_size = 20\n",
    "embedding_dim = 24\n",
    "hidden_dim = 16\n",
    "x = torch.FloatTensor(batch_size, target_size, 2).uniform_(0, 1)"
   ]
  },
  {
   "cell_type": "code",
   "execution_count": 33,
   "metadata": {},
   "outputs": [],
   "source": [
    "ge = GraphEmbedding(input_size, embedding_dim)"
   ]
  },
  {
   "cell_type": "code",
   "execution_count": 34,
   "metadata": {},
   "outputs": [
    {
     "data": {
      "text/plain": [
       "rl_with_rnn.GraphEmbedding"
      ]
     },
     "execution_count": 34,
     "metadata": {},
     "output_type": "execute_result"
    }
   ],
   "source": [
    "GraphEmbedding"
   ]
  },
  {
   "cell_type": "code",
   "execution_count": 5,
   "metadata": {},
   "outputs": [],
   "source": [
    "encoder_input = ge(x)"
   ]
  },
  {
   "cell_type": "markdown",
   "metadata": {},
   "source": [
    "## Encoder"
   ]
  },
  {
   "cell_type": "code",
   "execution_count": 6,
   "metadata": {},
   "outputs": [],
   "source": [
    "class skip_connection(nn.Module):\n",
    "    def __init__(self, module):\n",
    "        super(skip_connection, self).__init__()\n",
    "        self.module = module\n",
    "    def forward(x):\n",
    "        return x + self.module(x)"
   ]
  },
  {
   "cell_type": "markdown",
   "metadata": {},
   "source": [
    "Attention module(Without Batch normalization)"
   ]
  },
  {
   "cell_type": "code",
   "execution_count": 7,
   "metadata": {},
   "outputs": [],
   "source": [
    "class att_layer(nn.Module):\n",
    "    def __init__(self, embed_dim, n_heads, feed_forward_hidden=512, bn=False):\n",
    "        super(att_layer, self).__init__()\n",
    "        self.mha = torch.nn.MultiheadAttention(embed_dim, n_heads)\n",
    "        self.embed = nn.Sequential(nn.Linear(embed_dim, feed_forward_hidden), nn.ReLU(), nn.Linear(feed_forward_hidden, embed_dim))\n",
    "    def forward(self, x):\n",
    "        #I don't know why, but multiheadattention in pytorch starts with (target_seq_length, batch_size, embedding_size).\n",
    "        # thus we permute order first. https://pytorch.org/docs/stable/nn.html#multiheadattention\n",
    "        x = x.permute(1, 0, 2)\n",
    "        _1 = x + self.mha(x, x, x)[0]\n",
    "        _1 = _1.permute(1, 0, 2)\n",
    "        _2 = _1 + self.embed(_1)\n",
    "        return _1\n",
    "class attention_module(nn.Sequential):\n",
    "    def __init__(self, embed_dim, n_heads, feed_forward_hidden=512, bn=False):\n",
    "        super(attention_module, self).__init__(\n",
    "            att_layer(embed_dim, n_heads, feed_forward_hidden, bn),\n",
    "            att_layer(embed_dim, n_heads, feed_forward_hidden, bn),\n",
    "        )"
   ]
  },
  {
   "cell_type": "code",
   "execution_count": 35,
   "metadata": {},
   "outputs": [],
   "source": [
    "hidden_dim = 8\n",
    "mha = attention_module(embedding_dim, hidden_dim)"
   ]
  },
  {
   "cell_type": "code",
   "execution_count": 36,
   "metadata": {},
   "outputs": [
    {
     "data": {
      "text/plain": [
       "torch.Size([17, 20, 24])"
      ]
     },
     "execution_count": 36,
     "metadata": {},
     "output_type": "execute_result"
    }
   ],
   "source": [
    "h = mha(encoder_input)\n",
    "h.shape"
   ]
  },
  {
   "cell_type": "code",
   "execution_count": 10,
   "metadata": {},
   "outputs": [],
   "source": [
    "h_mean = h.mean(1)\n",
    "h_context_embed = nn.Linear(embedding_dim, embedding_dim)"
   ]
  },
  {
   "cell_type": "markdown",
   "metadata": {},
   "source": [
    "### Calculating query"
   ]
  },
  {
   "cell_type": "code",
   "execution_count": 11,
   "metadata": {},
   "outputs": [
    {
     "data": {
      "text/plain": [
       "torch.Size([17, 20])"
      ]
     },
     "execution_count": 11,
     "metadata": {},
     "output_type": "execute_result"
    }
   ],
   "source": [
    "mask = torch.zeros(batch_size, target_size, dtype=torch.bool)\n",
    "mask.shape"
   ]
  },
  {
   "cell_type": "code",
   "execution_count": 12,
   "metadata": {},
   "outputs": [],
   "source": [
    "W_placeholder = nn.Parameter(torch.Tensor(2 * embedding_dim))\n",
    "W_placeholder.data.uniform_(-1, 1)  # Placeholder should be in range of \n",
    "inp = W_placeholder\n",
    "v_weight_embed = nn.Linear(embedding_dim * 2, embedding_dim)"
   ]
  },
  {
   "cell_type": "code",
   "execution_count": 13,
   "metadata": {},
   "outputs": [],
   "source": [
    "h_bar = h_context_embed(h_mean)\n",
    "query = init_embed = h_bar + v_weight_embed(inp)"
   ]
  },
  {
   "cell_type": "code",
   "execution_count": 14,
   "metadata": {},
   "outputs": [
    {
     "data": {
      "text/plain": [
       "torch.Size([17, 24])"
      ]
     },
     "execution_count": 14,
     "metadata": {},
     "output_type": "execute_result"
    }
   ],
   "source": [
    "query.shape"
   ]
  },
  {
   "cell_type": "code",
   "execution_count": 15,
   "metadata": {},
   "outputs": [],
   "source": [
    "from rl_with_attention import Glimpse, Pointer"
   ]
  },
  {
   "cell_type": "markdown",
   "metadata": {},
   "source": [
    "### Multihead glimpse"
   ]
  },
  {
   "cell_type": "code",
   "execution_count": 16,
   "metadata": {},
   "outputs": [],
   "source": [
    "g = Glimpse(embedding_dim, hidden_dim, 4)\n",
    "p = Pointer(embedding_dim, hidden_dim, 1)"
   ]
  },
  {
   "cell_type": "code",
   "execution_count": 17,
   "metadata": {},
   "outputs": [],
   "source": [
    "_ , nq = g(query, h, mask)"
   ]
  },
  {
   "cell_type": "code",
   "execution_count": 18,
   "metadata": {
    "scrolled": true
   },
   "outputs": [],
   "source": [
    "prob, _ = p(nq, h, mask)"
   ]
  },
  {
   "cell_type": "code",
   "execution_count": 19,
   "metadata": {},
   "outputs": [],
   "source": [
    "cat = Categorical(prob)"
   ]
  },
  {
   "cell_type": "code",
   "execution_count": 20,
   "metadata": {},
   "outputs": [],
   "source": [
    "chosen = cat.sample()"
   ]
  },
  {
   "cell_type": "code",
   "execution_count": 21,
   "metadata": {},
   "outputs": [],
   "source": [
    "logprobs = cat.log_prob(chosen)"
   ]
  },
  {
   "cell_type": "code",
   "execution_count": 22,
   "metadata": {},
   "outputs": [],
   "source": [
    "mask = torch.zeros(batch_size, target_size, dtype=torch.bool)\n",
    "mask[[i for i in range(batch_size)] , chosen] = True"
   ]
  },
  {
   "cell_type": "code",
   "execution_count": 23,
   "metadata": {},
   "outputs": [
    {
     "data": {
      "text/plain": [
       "torch.Size([17, 20, 24])"
      ]
     },
     "execution_count": 23,
     "metadata": {},
     "output_type": "execute_result"
    }
   ],
   "source": [
    "h.shape"
   ]
  },
  {
   "cell_type": "code",
   "execution_count": 24,
   "metadata": {},
   "outputs": [],
   "source": [
    "cc = chosen.unsqueeze(1).unsqueeze(2).repeat(1,1,24)"
   ]
  },
  {
   "cell_type": "code",
   "execution_count": 25,
   "metadata": {
    "scrolled": true
   },
   "outputs": [],
   "source": [
    "first_chosen_hs = h.gather(1, cc).squeeze(1)\n",
    "chosen_hs = h.gather(1, cc).squeeze(1)"
   ]
  },
  {
   "cell_type": "code",
   "execution_count": 26,
   "metadata": {},
   "outputs": [],
   "source": [
    "v_weight = torch.cat([first_chosen_hs, chosen_hs], dim=-1)"
   ]
  },
  {
   "cell_type": "code",
   "execution_count": 27,
   "metadata": {},
   "outputs": [],
   "source": [
    "query = h_bar + v_weight_embed(v_weight)"
   ]
  },
  {
   "cell_type": "code",
   "execution_count": 28,
   "metadata": {},
   "outputs": [],
   "source": [
    "prev_chosen_indices = []\n",
    "prev_chosen_logprobs = []\n",
    "first_chosen_hs = None\n",
    "mask = torch.zeros(batch_size, target_size, dtype=torch.bool)"
   ]
  },
  {
   "cell_type": "code",
   "execution_count": 29,
   "metadata": {
    "scrolled": true
   },
   "outputs": [
    {
     "name": "stdout",
     "output_type": "stream",
     "text": [
      "0\n",
      "1\n",
      "2\n",
      "3\n",
      "4\n",
      "5\n",
      "6\n",
      "7\n",
      "8\n",
      "9\n",
      "10\n",
      "11\n",
      "12\n",
      "13\n",
      "14\n",
      "15\n",
      "16\n",
      "17\n",
      "18\n",
      "19\n"
     ]
    }
   ],
   "source": [
    "#while len(prev_chosen_indices) < target_size:\n",
    "for _index in range(target_size):\n",
    "    print(_index)\n",
    "    _ , nq = g(query, h, mask) # applying glimpse\n",
    "    prob, _ = p(nq, h, mask) # applying ptr\n",
    "    cat = Categorical(prob)\n",
    "    chosen = cat.sample()\n",
    "    logprobs = cat.log_prob(chosen)\n",
    "    prev_chosen_indices.append(chosen)\n",
    "    prev_chosen_logprobs.append(logprobs)\n",
    "    mask[[i for i in range(batch_size)] , chosen] = True\n",
    "    cc = chosen.unsqueeze(1).unsqueeze(2).repeat(1,1,24)\n",
    "    if first_chosen_hs is None:\n",
    "        first_chosen_hs = h.gather(1, cc).squeeze(1)\n",
    "    chosen_hs = h.gather(1, cc).squeeze(1)\n",
    "    v_weight = torch.cat([first_chosen_hs, chosen_hs], dim=-1)\n",
    "    query = h_bar + v_weight_embed(v_weight)\n",
    "    "
   ]
  },
  {
   "cell_type": "code",
   "execution_count": 30,
   "metadata": {},
   "outputs": [
    {
     "data": {
      "text/plain": [
       "(20, 20)"
      ]
     },
     "execution_count": 30,
     "metadata": {},
     "output_type": "execute_result"
    }
   ],
   "source": [
    "len(prev_chosen_logprobs), len(prev_chosen_indices)"
   ]
  },
  {
   "cell_type": "code",
   "execution_count": 31,
   "metadata": {},
   "outputs": [],
   "source": [
    "ret_1 = torch.stack(prev_chosen_logprobs, 1)\n",
    "ret_2 = torch.stack(prev_chosen_indices, 1)"
   ]
  },
  {
   "cell_type": "code",
   "execution_count": 32,
   "metadata": {},
   "outputs": [
    {
     "data": {
      "text/plain": [
       "torch.Size([17, 20])"
      ]
     },
     "execution_count": 32,
     "metadata": {},
     "output_type": "execute_result"
    }
   ],
   "source": [
    "ret_1.shape"
   ]
  },
  {
   "cell_type": "code",
   "execution_count": null,
   "metadata": {},
   "outputs": [],
   "source": []
  }
 ],
 "metadata": {
  "kernelspec": {
   "display_name": "Python 3",
   "language": "python",
   "name": "python3"
  },
  "language_info": {
   "codemirror_mode": {
    "name": "ipython",
    "version": 3
   },
   "file_extension": ".py",
   "mimetype": "text/x-python",
   "name": "python",
   "nbconvert_exporter": "python",
   "pygments_lexer": "ipython3",
   "version": "3.6.8"
  }
 },
 "nbformat": 4,
 "nbformat_minor": 2
}
